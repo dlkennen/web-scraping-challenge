{
 "cells": [
  {
   "cell_type": "code",
   "execution_count": 1,
   "metadata": {},
   "outputs": [],
   "source": [
    "#Dependencies\n",
    "from bs4 import BeautifulSoup as bs\n",
    "import requests\n",
    "import pymongo\n",
    "from splinter import Browser\n",
    "from webdriver_manager.chrome import ChromeDriverManager\n",
    "import pandas as pd\n"
   ]
  },
  {
   "cell_type": "code",
   "execution_count": 2,
   "metadata": {},
   "outputs": [],
   "source": [
    "# Initialize PyMongo to work with MongoDBs\n",
    "conn = 'mongodb://localhost:27017'\n",
    "client = pymongo.MongoClient(conn)"
   ]
  },
  {
   "cell_type": "code",
   "execution_count": 3,
   "metadata": {},
   "outputs": [],
   "source": [
    "# Define database and collection\n",
    "db = client.mars_db\n",
    "collection = db.items"
   ]
  },
  {
   "cell_type": "code",
   "execution_count": 4,
   "metadata": {},
   "outputs": [
    {
     "name": "stderr",
     "output_type": "stream",
     "text": [
      "\n",
      "\n",
      "====== WebDriver manager ======\n",
      "Current google-chrome version is 91.0.4472\n",
      "Get LATEST driver version for 91.0.4472\n",
      "Driver [C:\\Users\\dlken\\.wdm\\drivers\\chromedriver\\win32\\91.0.4472.101\\chromedriver.exe] found in cache\n"
     ]
    }
   ],
   "source": [
    "#Setting up splinter\n",
    "executable_path = {'executable_path': ChromeDriverManager().install()}\n",
    "browser = Browser('chrome', **executable_path, headless=False)\n",
    "\n",
    "#Mars url to be scraped\n",
    "url = 'https://redplanetscience.com'\n",
    "browser.visit(url)\n",
    "\n",
    "html = browser.html\n",
    "mars_soup = bs(html, \"html.parser\")\n"
   ]
  },
  {
   "cell_type": "code",
   "execution_count": 5,
   "metadata": {},
   "outputs": [],
   "source": [
    "#Storing article title and description\n",
    "news_title = mars_soup.find('div', class_='content_title').text\n",
    "news_p = mars_soup.find('div', class_='article_teaser_body').text\n",
    "\n",
    "#Quit browser\n",
    "browser.quit()"
   ]
  },
  {
   "cell_type": "code",
   "execution_count": 6,
   "metadata": {},
   "outputs": [
    {
     "name": "stdout",
     "output_type": "stream",
     "text": [
      "8 Martian Postcards to Celebrate Curiosity's Landing Anniversary\n",
      "The NASA rover touched down eight years ago, on Aug. 5, 2012, and will soon be joined by a second rover, Perseverance.\n"
     ]
    }
   ],
   "source": [
    "#Printing stored title and description\n",
    "print(news_title)\n",
    "print(news_p)"
   ]
  },
  {
   "cell_type": "code",
   "execution_count": null,
   "metadata": {},
   "outputs": [],
   "source": [
    "#Setting up splinter\n",
    "executable_path = {'executable_path': ChromeDriverManager().install()}\n",
    "browser = Browser('chrome', **executable_path, headless=False)\n",
    "\n",
    "#Storing url for featured image site\n",
    "image_url = 'https://spaceimages-mars.com/'\n",
    "browser.visit(image_url)\n",
    "\n",
    "html = browser.html\n",
    "image_soup = bs(html, \"html.parser\")\n",
    "\n",
    "#Scraping all images\n",
    "images = image_soup.findAll('img')\n"
   ]
  },
  {
   "cell_type": "code",
   "execution_count": null,
   "metadata": {},
   "outputs": [],
   "source": [
    "#Storing the second available image\n",
    "featured_image = images[1]\n",
    "\n",
    "#Creating a dictionary based upon the image attributes\n",
    "image_attr_dict = featured_image.attrs\n",
    "\n",
    "#Creating a url for the featured image\n",
    "featured_image_url = image_url + image_attr_dict['src']\n",
    "print(featured_image_url)\n",
    "\n",
    "#Quit browser\n",
    "browser.quit()"
   ]
  },
  {
   "cell_type": "code",
   "execution_count": null,
   "metadata": {},
   "outputs": [],
   "source": [
    "#Scraping Mars Facts Table\n",
    "table_url = 'https://galaxyfacts-mars.com/'\n",
    "mars_tables = pd.read_html(table_url)\n",
    "\n",
    "#Storing second table as a dataframe\n",
    "mars_info_df = mars_tables[1]\n",
    "mars_info_df"
   ]
  },
  {
   "cell_type": "code",
   "execution_count": null,
   "metadata": {},
   "outputs": [],
   "source": [
    "#Converting dataframe to an HTML table string\n",
    "mars_info_html_table = mars_info_df.to_html()\n",
    "mars_info_html_table"
   ]
  },
  {
   "cell_type": "code",
   "execution_count": null,
   "metadata": {},
   "outputs": [],
   "source": [
    "#Stripping newlines\n",
    "mars_info_html_table = mars_info_html_table.replace('\\n', '')\n",
    "mars_info_html_table\n",
    "\n",
    "#Quit browser\n",
    "browser.quit()"
   ]
  },
  {
   "cell_type": "code",
   "execution_count": null,
   "metadata": {},
   "outputs": [],
   "source": [
    "#Setting up splinter\n",
    "executable_path = {'executable_path': ChromeDriverManager().install()}\n",
    "browser = Browser('chrome', **executable_path, headless=False)\n",
    "\n",
    "#Storing url for featured image site\n",
    "mars_hemi_url = 'https://marshemispheres.com/'\n",
    "browser.visit(mars_hemi_url)\n",
    "\n",
    "html = browser.html\n",
    "hemi_soup = bs(html, \"html.parser\")\n",
    "\n",
    "#Scraping all hemisphere pages\n",
    "hemi_pages = []\n",
    "for url in hemi_soup.findAll('a'):\n",
    "    if url.get('href') != \"#\":\n",
    "        if url.get('href') not in hemi_pages:\n",
    "            if url.get('href') != 'https://astrogeology.usgs.gov/search':\n",
    "                hemi_pages.append(url.get('href'))\n",
    "hemi_pages"
   ]
  },
  {
   "cell_type": "code",
   "execution_count": null,
   "metadata": {},
   "outputs": [],
   "source": [
    "#Scraping the full image from each hemisphere\n",
    "\n",
    "#Setting up splinter\n",
    "executable_path = {'executable_path': ChromeDriverManager().install()}\n",
    "browser = Browser('chrome', **executable_path, headless=False)\n",
    "\n",
    "#Creating empty list\n",
    "hemisphere_image_urls=[]\n",
    "\n",
    "#For loop to visit each hemisphere page and scraping the full image url\n",
    "for url in hemi_pages:\n",
    "    search_url = mars_hemi_url + url\n",
    "    \n",
    "    browser.visit(search_url)\n",
    "    html = browser.html\n",
    "    search_soup = bs(html, \"html.parser\")\n",
    "    full_image = search_soup.find('img', class_=\"wide-image\")\n",
    "    \n",
    "    #Creating a dictionary based upon the image attributes\n",
    "    image_attr_dict = full_image.attrs\n",
    "    image_url = mars_hemi_url + image_attr_dict['src']\n",
    "    \n",
    "    hemi_title = search_soup.find('h2', class_=\"title\").get_text()\n",
    "    title = hemi_title.replace('Enhanced', '')\n",
    "    \n",
    "    hemi_dict = {\"title\" : title, \"img_url\": image_url}\n",
    "    hemisphere_image_urls.append(hemi_dict)\n",
    "\n",
    "#Completed list of dictionaries\n",
    "hemisphere_image_urls                                \n",
    "   "
   ]
  },
  {
   "cell_type": "code",
   "execution_count": null,
   "metadata": {},
   "outputs": [],
   "source": []
  }
 ],
 "metadata": {
  "kernelspec": {
   "display_name": "Python [conda env:PythonData] *",
   "language": "python",
   "name": "conda-env-PythonData-py"
  },
  "language_info": {
   "codemirror_mode": {
    "name": "ipython",
    "version": 3
   },
   "file_extension": ".py",
   "mimetype": "text/x-python",
   "name": "python",
   "nbconvert_exporter": "python",
   "pygments_lexer": "ipython3",
   "version": "3.6.10"
  }
 },
 "nbformat": 4,
 "nbformat_minor": 4
}
